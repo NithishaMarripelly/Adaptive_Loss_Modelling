{
 "cells": [
  {
   "cell_type": "code",
   "execution_count": null,
   "id": "3159391d-5f6e-4f7b-80e9-710f7040c358",
   "metadata": {},
   "outputs": [],
   "source": [
    "# Importing required libraries\n",
    "import torch\n",
    "import torchvision.datasets as datasets\n",
    "import torchvision.transforms as transforms"
   ]
  },
  {
   "cell_type": "code",
   "execution_count": 178,
   "id": "4f3d2830",
   "metadata": {},
   "outputs": [
    {
     "name": "stdout",
     "output_type": "stream",
     "text": [
      "Using device: cuda\n"
     ]
    }
   ],
   "source": [
    "# Defining device (using GPU)\n",
    "device = torch.device(\"cuda\")\n",
    "print(\"Using device:\", device)"
   ]
  },
  {
   "cell_type": "markdown",
   "id": "04382992",
   "metadata": {},
   "source": [
    "#### Loading the data and preprocessing"
   ]
  },
  {
   "cell_type": "code",
   "execution_count": null,
   "id": "aec2748c",
   "metadata": {},
   "outputs": [],
   "source": [
    "# Defining transformations\n",
    "# Implementing Jittering and random cropping with rescaling\n",
    "transform = transforms.Compose([\n",
    "    transforms.RandomResizedCrop(32, scale=(0.8, 1.0)),  \n",
    "    transforms.ColorJitter(brightness=0.2, contrast=0.2, saturation=0.2, hue=0.1),  \n",
    "    transforms.ToTensor(),\n",
    "    transforms.Normalize(mean=(0.4914, 0.4822, 0.4465), std=(0.2470, 0.2435, 0.2616))\n",
    "])\n",
    "\n",
    "# Load CIFAR-10 dataset\n",
    "train = datasets.CIFAR10(root='./data', train=True, download=False, transform=transform)\n",
    "test = datasets.CIFAR10(root='./data', train=False, download=False, transform=transform)\n",
    "\n",
    "# Function to create DataLoaders\n",
    "train_cifar = torch.utils.data.DataLoader(train, batch_size=64, shuffle=True)\n",
    "test_cifar = torch.utils.data.DataLoader(test, batch_size=64)"
   ]
  },
  {
   "cell_type": "code",
   "execution_count": 202,
   "id": "279304e6",
   "metadata": {},
   "outputs": [
    {
     "name": "stdout",
     "output_type": "stream",
     "text": [
      "782\n",
      "157\n"
     ]
    }
   ],
   "source": [
    "# Confirming the test and train datasets' size x 64\n",
    "print(len(train_cifar))\n",
    "print(len(test_cifar))"
   ]
  },
  {
   "cell_type": "markdown",
   "id": "fb264227",
   "metadata": {},
   "source": [
    "#### Using a ResNet18 model"
   ]
  },
  {
   "cell_type": "code",
   "execution_count": 208,
   "id": "c235982c",
   "metadata": {},
   "outputs": [],
   "source": [
    "import torch.nn as nn\n",
    "import torchvision.models as models\n",
    "\n",
    "class ResNetBackbone(nn.Module):\n",
    "    def __init__(self):\n",
    "        super(ResNetBackbone, self).__init__()\n",
    "        resnet = models.resnet18(weights=models.ResNet18_Weights.IMAGENET1K_V1)\n",
    "\n",
    "        # Remove the fully connected layer\n",
    "        self.backbone = nn.Sequential(*list(resnet.children())[:-1])\n",
    "\n",
    "        # Feature output size: 512\n",
    "        self.feature_dim = 256  # Reduced to 256 for better generalization\n",
    "\n",
    "        self.flatten = nn.Flatten()\n",
    "\n",
    "        # New bottleneck fully connected layer\n",
    "        self.fc = nn.Linear(512, self.feature_dim)\n",
    "\n",
    "        # Batch normalization\n",
    "        self.batch_norm = nn.BatchNorm1d(self.feature_dim, momentum=0.5)\n",
    "\n",
    "        # Stronger dropout\n",
    "        self.dropout = nn.Dropout(p=0.6)\n",
    "\n",
    "    def forward(self, x):\n",
    "        x = self.backbone(x)\n",
    "        x = self.flatten(x)\n",
    "        x = self.fc(x)  # Bottleneck layer\n",
    "        x = self.batch_norm(x)\n",
    "        x = self.dropout(x)\n",
    "        return x\n"
   ]
  },
  {
   "cell_type": "markdown",
   "id": "e786fb08",
   "metadata": {},
   "source": [
    "#### Calculating the theta value"
   ]
  },
  {
   "cell_type": "code",
   "execution_count": null,
   "id": "3f561b9b",
   "metadata": {},
   "outputs": [],
   "source": [
    "import torch.nn.functional as F\n",
    "\n",
    "class Cosine_similarity(nn.Module):\n",
    "    def __init__(self, feature_dim, num_classes):\n",
    "        super(Cosine_similarity, self).__init__()\n",
    "        \n",
    "        # Learnable class weight vectors (initialized randomly)\n",
    "        self.class_weights = nn.Parameter(torch.randn(num_classes, feature_dim))\n",
    "        \n",
    "    def forward(self, features):\n",
    "        # Normalize the feature vectors (L2 normalization)\n",
    "        features = F.normalize(features, p=2, dim=1)  \n",
    "        \n",
    "        # Normalize the class weight vectors\n",
    "        class_weights = F.normalize(self.class_weights, p=2, dim=1)  \n",
    "        \n",
    "        # Compute cosine similarity (dot product since vectors are normalized)\n",
    "        cosine_sim = torch.matmul(features, class_weights.T)  \n",
    "        \n",
    "        return cosine_sim"
   ]
  },
  {
   "cell_type": "markdown",
   "id": "493de07a",
   "metadata": {},
   "source": [
    "#### Calculating mean and standard deviation of features to calculate standardized feature norm"
   ]
  },
  {
   "cell_type": "code",
   "execution_count": null,
   "id": "e81afa0a",
   "metadata": {},
   "outputs": [
    {
     "name": "stdout",
     "output_type": "stream",
     "text": [
      "Observed mean norm: 7.902091979980469\n",
      "Observed std norm: 1.1947855949401855\n"
     ]
    }
   ],
   "source": [
    "# Create an instance of ResNetBackbone and Cosine_similarity\n",
    "device = torch.device(\"cuda\" if torch.cuda.is_available() else \"cpu\")\n",
    "num_classes = 10\n",
    "model_backbone = ResNetBackbone().to(device)\n",
    "model_head = Cosine_similarity(model_backbone.feature_dim, num_classes).to(device)\n",
    "\n",
    "# Run a few batches and calculate feature norm statistics\n",
    "model_backbone.eval() \n",
    "with torch.no_grad():\n",
    "    norms_list = []\n",
    "    for i, (images, labels) in enumerate(train_cifar):\n",
    "        if i >= 5:\n",
    "            break\n",
    "        images = images.to(device)\n",
    "        features = model_backbone(images)\n",
    "        norms = torch.norm(features, p=2, dim=1)\n",
    "        norms_list.extend(norms.tolist())\n",
    "\n",
    "    # Calculating mean norm and standard deviation norm of features\n",
    "    mean_norm = torch.tensor(norms_list).mean().item()\n",
    "    std_norm = torch.tensor(norms_list).std().item()\n",
    "\n",
    "    print(f\"Observed mean norm: {mean_norm}\")\n",
    "    print(f\"Observed std norm: {std_norm}\")"
   ]
  },
  {
   "cell_type": "markdown",
   "id": "8b4f785d",
   "metadata": {},
   "source": [
    "#### Defining AdaLoss function"
   ]
  },
  {
   "cell_type": "code",
   "execution_count": null,
   "id": "dd7a0941",
   "metadata": {},
   "outputs": [],
   "source": [
    "import torch\n",
    "import torch.nn as nn\n",
    "import torch.nn.functional as F\n",
    "import math\n",
    "\n",
    "class AdaLossModel(nn.Module):\n",
    "    def __init__(self, num_classes, alpha, backbone_type, mean_norm, std_norm):\n",
    "        super(AdaLossModel, self).__init__()\n",
    "\n",
    "        self.head = Cosine_similarity(self.backbone.feature_dim, num_classes)\n",
    "        self.num_classes = num_classes\n",
    "        self.alpha = alpha\n",
    "        self.register_buffer('batch_mean', torch.ones(1) * mean_norm)\n",
    "        self.register_buffer('batch_std', torch.ones(1) * std_norm)\n",
    "\n",
    "    def forward(self, x, labels=None):\n",
    "        features = self.backbone(x)\n",
    "        norms = torch.norm(features, p=2, dim=1)\n",
    "\n",
    "        # Updating batch statistics for each batch\n",
    "        with torch.no_grad():\n",
    "            batch_mean = norms.mean()\n",
    "            batch_std = norms.std()\n",
    "            self.batch_mean.data = self.alpha * batch_mean + (1 - self.alpha) * self.batch_mean\n",
    "            self.batch_std.data = self.alpha * batch_std + (1 - self.alpha) * self.batch_std\n",
    "        # Clamping for numerical stability\n",
    "        safe_norms = torch.clamp(norms, min=0.001, max=100)\n",
    "        # Calculating standardized norms using z-score normalization\n",
    "        standardized_norms = (safe_norms - self.batch_mean) / (self.batch_std + 1e-5)\n",
    "        # Calculating the cosine similarity between feature vector and weight vector\n",
    "        cosine_sim = self.head(features)\n",
    "        # Only return logits in test mode\n",
    "        if labels is None:\n",
    "            return cosine_sim  # Only return logits in test mode\n",
    "\n",
    "        # Compute AdaLoss\n",
    "        m = 0.4\n",
    "        h = 0.333\n",
    "        margin_scaler = standardized_norms * h\n",
    "        margin_scaler = torch.clamp(margin_scaler, -1, 1)\n",
    "\n",
    "        g_angular = -m * margin_scaler\n",
    "        g_additive = m + (m * margin_scaler)\n",
    "\n",
    "        one_hot_labels = torch.zeros_like(cosine_sim).scatter_(1, labels.unsqueeze(1), 1)\n",
    "        angular_term = one_hot_labels * g_angular.unsqueeze(1)\n",
    "        additive_term = one_hot_labels * g_additive.unsqueeze(1)\n",
    "\n",
    "        theta = torch.acos(torch.clamp(cosine_sim, -1 + 1e-7, 1 - 1e-7))\n",
    "        theta_m = torch.clamp(theta + angular_term, min=1e-5, max=math.pi - 1e-5)\n",
    "        cosine_m = torch.cos(theta_m)\n",
    "\n",
    "        final_cosine = cosine_m - additive_term\n",
    "\n",
    "        # Scale logits before computing loss\n",
    "        loss = F.cross_entropy(final_cosine * 30, labels)\n",
    "        return loss, cosine_sim  # Return both loss and logits\n"
   ]
  },
  {
   "cell_type": "markdown",
   "id": "1458fb60",
   "metadata": {},
   "source": [
    "#### Evaluating loss Function"
   ]
  },
  {
   "cell_type": "code",
   "execution_count": 213,
   "id": "7a3641a1",
   "metadata": {},
   "outputs": [
    {
     "name": "stdout",
     "output_type": "stream",
     "text": [
      "Epoch 1/5, Train Loss: 9.4100, Train Accuracy: 60.78%\n",
      "Epoch 1/5, Test Loss: 7.1904, Test Accuracy: 74.22%\n",
      "Epoch 2/5, Train Loss: 6.4302, Train Accuracy: 75.06%\n",
      "Epoch 2/5, Test Loss: 6.5076, Test Accuracy: 77.13%\n",
      "Epoch 3/5, Train Loss: 5.5423, Train Accuracy: 78.69%\n",
      "Epoch 3/5, Test Loss: 6.1183, Test Accuracy: 78.40%\n",
      "Epoch 4/5, Train Loss: 5.0185, Train Accuracy: 80.75%\n",
      "Epoch 4/5, Test Loss: 5.9002, Test Accuracy: 79.96%\n",
      "Epoch 5/5, Train Loss: 4.5895, Train Accuracy: 82.53%\n",
      "Epoch 5/5, Test Loss: 5.7319, Test Accuracy: 80.37%\n"
     ]
    }
   ],
   "source": [
    "import torch\n",
    "import torch.nn as nn\n",
    "import torch.nn.functional as F\n",
    "import torchvision.models as models\n",
    "import torchvision.datasets as datasets\n",
    "import torchvision.transforms as transforms\n",
    "import math\n",
    "\n",
    "# Example Usage\n",
    "device = torch.device(\"cuda\" if torch.cuda.is_available() else \"cpu\")\n",
    "num_classes = 10\n",
    "alpha = 0.1\n",
    "\n",
    "\n",
    "# Instantiate the model\n",
    "model = AdaLossModel(num_classes=num_classes, alpha=alpha, backbone_type='resnet', mean_norm=mean_norm, std_norm=std_norm).to(device)\n",
    "\n",
    "# Define optimizer\n",
    "optimizer = torch.optim.Adam(model.parameters(), lr=0.0001)\n",
    "num_epochs = 5\n",
    "\n",
    "# Training loop\n",
    "for epoch in range(num_epochs):\n",
    "    model.train()  # Set model to training mode\n",
    "    train_loss = 0\n",
    "    correct = 0\n",
    "    total = 0\n",
    "\n",
    "    for batch_idx, (inputs, labels) in enumerate(train_cifar):\n",
    "        inputs, labels = inputs.to(device), labels.to(device)\n",
    "        optimizer.zero_grad()\n",
    "        \n",
    "        loss, logits = model(inputs, labels)  # Extract both loss and logits\n",
    "        loss.backward()\n",
    "        optimizer.step()\n",
    "\n",
    "        train_loss += loss.item()\n",
    "\n",
    "        # Calculate training accuracy\n",
    "        _, predicted = logits.max(1)  # Use logits directly instead of extracting features\n",
    "        total += labels.size(0)\n",
    "        correct += predicted.eq(labels).sum().item()\n",
    "\n",
    "    # Calculate epoch training loss and accuracy\n",
    "    train_loss /= len(train_cifar)\n",
    "    train_accuracy = 100. * correct / total\n",
    "    print(f\"Epoch {epoch + 1}/{num_epochs}, Train Loss: {train_loss:.4f}, Train Accuracy: {train_accuracy:.2f}%\")\n",
    "\n",
    "    # Testing loop\n",
    "    model.eval()\n",
    "    test_loss = 0\n",
    "    correct = 0\n",
    "    total = 0\n",
    "\n",
    "    with torch.no_grad():\n",
    "        for inputs, labels in test_cifar:\n",
    "            inputs, labels = inputs.to(device), labels.to(device)\n",
    "\n",
    "            loss, logits = model(inputs, labels)  # Ensure model returns both loss and logits\n",
    "            test_loss += loss.item()\n",
    "\n",
    "            pred = logits.argmax(dim=1)\n",
    "            total += labels.size(0)\n",
    "            correct += pred.eq(labels).sum().item()\n",
    "\n",
    "    test_loss /= len(test_cifar)\n",
    "    test_accuracy = 100. * correct / total\n",
    "    print(f\"Epoch {epoch + 1}/{num_epochs}, Test Loss: {test_loss:.4f}, Test Accuracy: {test_accuracy:.2f}%\")\n",
    "\n"
   ]
  }
 ],
 "metadata": {
  "kernelspec": {
   "display_name": "base",
   "language": "python",
   "name": "python3"
  },
  "language_info": {
   "codemirror_mode": {
    "name": "ipython",
    "version": 3
   },
   "file_extension": ".py",
   "mimetype": "text/x-python",
   "name": "python",
   "nbconvert_exporter": "python",
   "pygments_lexer": "ipython3",
   "version": "3.12.4"
  }
 },
 "nbformat": 4,
 "nbformat_minor": 5
}
