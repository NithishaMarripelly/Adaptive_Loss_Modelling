{
 "cells": [
  {
   "cell_type": "code",
   "execution_count": 6,
   "metadata": {},
   "outputs": [],
   "source": [
    "# Importing required libraries\n",
    "\n",
    "import torch\n",
    "import torchvision.datasets as datasets\n",
    "import torchvision.transforms as transforms"
   ]
  },
  {
   "cell_type": "code",
   "execution_count": 7,
   "metadata": {},
   "outputs": [
    {
     "name": "stdout",
     "output_type": "stream",
     "text": [
      "Using device: cuda\n"
     ]
    }
   ],
   "source": [
    "# Defining device (using GPU)\n",
    "device = torch.device(\"cuda\")\n",
    "print(\"Using device:\", device)"
   ]
  },
  {
   "cell_type": "markdown",
   "metadata": {},
   "source": [
    "#### Data Loading and preprocessing"
   ]
  },
  {
   "cell_type": "code",
   "execution_count": null,
   "metadata": {},
   "outputs": [
    {
     "name": "stderr",
     "output_type": "stream",
     "text": [
      "100%|██████████| 9.91M/9.91M [00:03<00:00, 3.29MB/s]\n",
      "100%|██████████| 28.9k/28.9k [00:00<00:00, 749kB/s]\n",
      "100%|██████████| 1.65M/1.65M [00:00<00:00, 1.75MB/s]\n",
      "100%|██████████| 4.54k/4.54k [00:00<00:00, 289kB/s]\n"
     ]
    },
    {
     "name": "stdout",
     "output_type": "stream",
     "text": [
      "Computed Mean: 0.13066047430038452\n",
      "Computed Std: 0.30810782313346863\n"
     ]
    }
   ],
   "source": [
    "\n",
    "# Loading MNIST dataset\n",
    "train = datasets.MNIST(root='./data', train=True, download=True, transform=transforms.ToTensor())\n",
    "test = datasets.MNIST(root='./data', train=False, download=True, transform=transforms.ToTensor())\n",
    "\n",
    "# Create DataLoader to load all images\n",
    "train_loader = torch.utils.data.DataLoader(train, batch_size=len(train), shuffle=False)\n",
    "\n",
    "# Get all images as a single batch\n",
    "# Extract images (ignoring labels)\n",
    "data = next(iter(train_loader))[0]  \n",
    "\n",
    "# Computing mean and standard deviation over all pixels in the batch\n",
    "mean = data.mean() \n",
    "std = data.std()    \n",
    "\n",
    "# Print computed mean and std\n",
    "# Use .item() to get the scalar value\n",
    "print(\"Computed Mean:\", mean.item())  \n",
    "print(\"Computed Std:\", std.item())    \n"
   ]
  },
  {
   "cell_type": "code",
   "execution_count": null,
   "metadata": {},
   "outputs": [],
   "source": [
    "# Define transformations for MNIST\n",
    "transform = transforms.Compose([\n",
    "    transforms.ToTensor(),\n",
    "    transforms.Normalize(mean=mean, std=std)  \n",
    "])\n",
    "\n",
    "# Applying Normalization \n",
    "train.transform = transform\n",
    "test.transform = transform\n",
    "\n",
    "# Function to create DataLoaders\n",
    "train_mnist = torch.utils.data.DataLoader(train, batch_size=64, shuffle=True)\n",
    "test_mnist = torch.utils.data.DataLoader(test, batch_size=64)"
   ]
  },
  {
   "cell_type": "code",
   "execution_count": null,
   "metadata": {},
   "outputs": [
    {
     "name": "stdout",
     "output_type": "stream",
     "text": [
      "938\n",
      "157\n"
     ]
    }
   ],
   "source": [
    "# Checking train and test dataset size\n",
    "print(len(train_mnist))\n",
    "print(len(test_mnist))"
   ]
  },
  {
   "cell_type": "markdown",
   "metadata": {},
   "source": [
    "#### Built a Simple Convolutional neural network model"
   ]
  },
  {
   "cell_type": "code",
   "execution_count": 12,
   "metadata": {},
   "outputs": [],
   "source": [
    "import torch\n",
    "import torch.nn as nn\n",
    "import torchvision.models as models\n",
    "\n",
    "class SimpleCNN(nn.Module):\n",
    "    def __init__(self):\n",
    "        super(SimpleCNN, self).__init__()\n",
    "        self.conv1 = nn.Conv2d(1, 32, kernel_size=3, stride=1, padding=1)\n",
    "        self.bn1 = nn.BatchNorm2d(32)\n",
    "        self.relu = nn.ReLU()\n",
    "        self.pool = nn.MaxPool2d(kernel_size=2, stride=2)\n",
    "        self.dropout = nn.Dropout(0.25)\n",
    "        self.conv2 = nn.Conv2d(32, 64, kernel_size=3, stride=1, padding=1)\n",
    "        self.bn2 = nn.BatchNorm2d(64)\n",
    "        self.flatten = nn.Flatten()\n",
    "        self.fc1 = nn.Linear(64 * 7 * 7, 128)  \n",
    "\n",
    "        self.feature_dim = 128 \n",
    "\n",
    "    def forward(self, x):\n",
    "        x = self.conv1(x)\n",
    "        x = self.bn1(x)\n",
    "        x = self.relu(x)\n",
    "        x = self.pool(x)\n",
    "        x = self.dropout(x)\n",
    "        x = self.conv2(x)\n",
    "        x = self.bn2(x)\n",
    "        x = self.relu(x)\n",
    "        x = self.pool(x)\n",
    "        x = self.dropout(x)\n",
    "        x = self.flatten(x)\n",
    "        x = self.fc1(x)\n",
    "        x = self.relu(x)\n",
    "        return x\n"
   ]
  },
  {
   "cell_type": "markdown",
   "metadata": {},
   "source": [
    "#### Calculating the theta value"
   ]
  },
  {
   "cell_type": "code",
   "execution_count": null,
   "metadata": {},
   "outputs": [],
   "source": [
    "import torch.nn.functional as F\n",
    "\n",
    "class Cosine_similarity(nn.Module):\n",
    "    def __init__(self, feature_dim, num_classes):\n",
    "        super(Cosine_similarity, self).__init__()\n",
    "\n",
    "        # Initializing random class weights\n",
    "        self.class_weights = nn.Parameter(torch.randn(num_classes, feature_dim))\n",
    "        \n",
    "    def forward(self, features):\n",
    "        # Normalize the feature vectors (L2 norm)\n",
    "        features = F.normalize(features, p=2, dim=1)  \n",
    "        \n",
    "        # Normalize the class weight vectors (L2 norm)\n",
    "        class_weights = F.normalize(self.class_weights, p=2, dim=1)  \n",
    "        \n",
    "        # Compute cosine similarity (dot product since vectors are normalized)\n",
    "        cosine_sim = torch.matmul(features, class_weights.T)  \n",
    "        \n",
    "        return cosine_sim"
   ]
  },
  {
   "cell_type": "markdown",
   "metadata": {},
   "source": [
    "#### Calculating mean and standard deviation of features to calculate standardized feature norm"
   ]
  },
  {
   "cell_type": "code",
   "execution_count": null,
   "metadata": {},
   "outputs": [
    {
     "name": "stdout",
     "output_type": "stream",
     "text": [
      "Observed mean norm: 1.5565310716629028\n",
      "Observed std norm: 0.18902243673801422\n"
     ]
    }
   ],
   "source": [
    "# Create an instance of SimpleCNN and Cosine_similarity\n",
    "device = torch.device(\"cuda\" if torch.cuda.is_available() else \"cpu\")\n",
    "num_classes = 10\n",
    "model_backbone = SimpleCNN().to(device)\n",
    "model_head = Cosine_similarity(model_backbone.feature_dim, num_classes).to(device)\n",
    "\n",
    "# Run a few batches and calculate feature norm statistics\n",
    "# Set backbone to evaluation mode\n",
    "model_backbone.eval()  \n",
    "with torch.no_grad():\n",
    "    norms_list = []\n",
    "    for i, (images, labels) in enumerate(train_mnist):\n",
    "        if i >= 5:\n",
    "            break\n",
    "        images = images.to(device)\n",
    "        features = model_backbone(images)\n",
    "        norms = torch.norm(features, p=2, dim=1)\n",
    "        norms_list.extend(norms.tolist())\n",
    "\n",
    "    # Calculating mean norm and standard deviation norm of features\n",
    "    mean_norm = torch.tensor(norms_list).mean().item()\n",
    "    std_norm = torch.tensor(norms_list).std().item()\n",
    "\n",
    "    print(f\"Observed mean norm: {mean_norm}\")\n",
    "    print(f\"Observed std norm: {std_norm}\")"
   ]
  },
  {
   "cell_type": "markdown",
   "metadata": {},
   "source": [
    "#### Defining AdaLoss Function"
   ]
  },
  {
   "cell_type": "code",
   "execution_count": null,
   "metadata": {},
   "outputs": [],
   "source": [
    "import torch\n",
    "import torch.nn as nn\n",
    "import torch.nn.functional as F\n",
    "import math\n",
    "\n",
    "class AdaLossModel(nn.Module):\n",
    "    def __init__(self, num_classes, alpha, backbone_type, mean_norm, std_norm):\n",
    "        super(AdaLossModel, self).__init__()\n",
    "        self.head = Cosine_similarity(self.backbone.feature_dim, num_classes)\n",
    "        self.num_classes = num_classes\n",
    "        self.alpha = alpha\n",
    "        self.register_buffer('batch_mean', torch.ones(1) * mean_norm)\n",
    "        self.register_buffer('batch_std', torch.ones(1) * std_norm)\n",
    "\n",
    "    def forward(self, x, labels=None):\n",
    "        features = self.backbone(x)\n",
    "        norms = torch.norm(features, p=2, dim=1)\n",
    "\n",
    "        # Updating batch statistics for each batch\n",
    "        with torch.no_grad():\n",
    "            batch_mean = norms.mean()\n",
    "            batch_std = norms.std()\n",
    "            self.batch_mean.data = self.alpha * batch_mean + (1 - self.alpha) * self.batch_mean\n",
    "            self.batch_std.data = self.alpha * batch_std + (1 - self.alpha) * self.batch_std\n",
    "        # Clamping for numerical stability\n",
    "        safe_norms = torch.clamp(norms, min=0.001, max=100)\n",
    "        # Calculating standardized norms using z-score normalization\n",
    "        standardized_norms = (safe_norms - self.batch_mean) / (self.batch_std + 1e-5)\n",
    "        # Calculating the cosine similarity between feature vector and weight vector\n",
    "        cosine_sim = self.head(features)\n",
    "\n",
    "        # Only return logits in test mode\n",
    "        if labels is None:\n",
    "            return cosine_sim  \n",
    "\n",
    "        m = 0.4\n",
    "        h = 0.333\n",
    "        margin_scaler = standardized_norms * h\n",
    "        # margin_scalar is clamped so that cosine values are in range [-1,1]\n",
    "        margin_scaler = torch.clamp(margin_scaler, -1, 1)\n",
    "\n",
    "        # Calculating g_add, g_angular values\n",
    "        g_angular = -m * margin_scaler\n",
    "        g_additive = m + (m * margin_scaler)\n",
    "\n",
    "        # One hot encoding of labels giving 1 at index of correct class for samples\n",
    "        one_hot_labels = torch.zeros_like(cosine_sim).scatter_(1, labels.unsqueeze(1), 1)\n",
    "\n",
    "        # Calculating angular and additive terms for samples\n",
    "        angular_term = one_hot_labels * g_angular.unsqueeze(1)\n",
    "        additive_term = one_hot_labels * g_additive.unsqueeze(1)\n",
    "\n",
    "        # Calculating theta value\n",
    "        theta = torch.acos(torch.clamp(cosine_sim, -1 + 1e-7, 1 - 1e-7))\n",
    "\n",
    "        # Calculating (theta+angular_term)\n",
    "        theta_m = torch.clamp(theta + angular_term, min=1e-5, max=math.pi - 1e-5)\n",
    "        cosine_m = torch.cos(theta_m)\n",
    "\n",
    "        final_cosine = cosine_m - additive_term\n",
    "\n",
    "        # Scale logits before computing loss\n",
    "        loss = F.cross_entropy(final_cosine * 30, labels)\n",
    "        # Return both loss and logits\n",
    "        return loss, cosine_sim  \n"
   ]
  },
  {
   "cell_type": "markdown",
   "metadata": {},
   "source": [
    "#### Evaluating the Loss Function"
   ]
  },
  {
   "cell_type": "code",
   "execution_count": null,
   "metadata": {},
   "outputs": [
    {
     "name": "stdout",
     "output_type": "stream",
     "text": [
      "Epoch 1/20, Train Loss: 4.1680, Train Accuracy: 89.79% Test Loss: 1.2448, Test Accuracy: 96.83%\n",
      "Epoch 2/20, Train Loss: 1.5467, Train Accuracy: 96.51% Test Loss: 0.8185, Test Accuracy: 97.75%\n",
      "Epoch 3/20, Train Loss: 1.0779, Train Accuracy: 97.38% Test Loss: 0.6034, Test Accuracy: 98.29%\n",
      "Epoch 4/20, Train Loss: 0.8634, Train Accuracy: 97.81% Test Loss: 0.5553, Test Accuracy: 98.49%\n",
      "Epoch 5/20, Train Loss: 0.7372, Train Accuracy: 98.04% Test Loss: 0.4637, Test Accuracy: 98.73%\n",
      "Epoch 6/20, Train Loss: 0.6395, Train Accuracy: 98.32% Test Loss: 0.4686, Test Accuracy: 98.58%\n",
      "Epoch 7/20, Train Loss: 0.5835, Train Accuracy: 98.44% Test Loss: 0.3972, Test Accuracy: 98.85%\n",
      "Epoch 8/20, Train Loss: 0.5326, Train Accuracy: 98.53% Test Loss: 0.3697, Test Accuracy: 98.83%\n",
      "Epoch 9/20, Train Loss: 0.4901, Train Accuracy: 98.64% Test Loss: 0.3714, Test Accuracy: 98.90%\n",
      "Epoch 10/20, Train Loss: 0.4589, Train Accuracy: 98.72% Test Loss: 0.3237, Test Accuracy: 99.01%\n",
      "Epoch 11/20, Train Loss: 0.4274, Train Accuracy: 98.80% Test Loss: 0.2934, Test Accuracy: 99.12%\n",
      "Epoch 12/20, Train Loss: 0.3946, Train Accuracy: 98.93% Test Loss: 0.2822, Test Accuracy: 99.11%\n",
      "Epoch 13/20, Train Loss: 0.3677, Train Accuracy: 98.98% Test Loss: 0.2826, Test Accuracy: 99.10%\n",
      "Epoch 14/20, Train Loss: 0.3647, Train Accuracy: 98.95% Test Loss: 0.2837, Test Accuracy: 99.14%\n",
      "Epoch 15/20, Train Loss: 0.3333, Train Accuracy: 99.11% Test Loss: 0.2889, Test Accuracy: 99.08%\n",
      "Epoch 16/20, Train Loss: 0.3270, Train Accuracy: 99.08% Test Loss: 0.2620, Test Accuracy: 99.18%\n",
      "Epoch 17/20, Train Loss: 0.3124, Train Accuracy: 99.14% Test Loss: 0.2453, Test Accuracy: 99.28%\n",
      "Epoch 18/20, Train Loss: 0.2985, Train Accuracy: 99.16% Test Loss: 0.2379, Test Accuracy: 99.27%\n",
      "Epoch 19/20, Train Loss: 0.2781, Train Accuracy: 99.23% Test Loss: 0.2390, Test Accuracy: 99.31%\n",
      "Epoch 20/20, Train Loss: 0.2694, Train Accuracy: 99.26% Test Loss: 0.2351, Test Accuracy: 99.22%\n"
     ]
    }
   ],
   "source": [
    "import torch\n",
    "import torch.nn as nn\n",
    "import torch.nn.functional as F\n",
    "import torchvision.models as models\n",
    "import torchvision.datasets as datasets\n",
    "import torchvision.transforms as transforms\n",
    "import math\n",
    "\n",
    "# Example Usage\n",
    "device = torch.device(\"cuda\" if torch.cuda.is_available() else \"cpu\")\n",
    "num_classes = 10\n",
    "alpha = 0.1\n",
    "\n",
    "# Instantiating the loss model\n",
    "model = AdaLossModel(num_classes=num_classes, alpha=alpha, backbone_type='cnn', mean_norm=mean_norm, std_norm=std_norm).to(device)\n",
    "\n",
    "# Defining optimizer\n",
    "optimizer = torch.optim.Adam(model.parameters(), lr=0.0001)\n",
    "num_epochs = 20\n",
    "\n",
    "# Training data on the SimpleCNN using AdaLoss function\n",
    "for epoch in range(num_epochs):\n",
    "    # Set model to training mode\n",
    "    model.train()  \n",
    "    train_loss = 0\n",
    "    correct = 0\n",
    "    total = 0\n",
    "\n",
    "    for batch_idx, (inputs, labels) in enumerate(train_mnist):\n",
    "        inputs, labels = inputs.to(device), labels.to(device)\n",
    "        # Setting gradients to zero after every iteration\n",
    "        optimizer.zero_grad()\n",
    "        \n",
    "        # Model takes inputs and labels and returns loss and logits\n",
    "        loss, logits = model(inputs, labels)  \n",
    "        # Calculates gradients\n",
    "        loss.backward()\n",
    "        optimizer.step()\n",
    "\n",
    "        # Calculating training loss\n",
    "        train_loss += loss.item()\n",
    "\n",
    "        # Calculate training accuracy\n",
    "        _, predicted = logits.max(1)  \n",
    "        total += labels.size(0)\n",
    "        correct += predicted.eq(labels).sum().item()\n",
    "\n",
    "    # Calculate epoch training loss and accuracy\n",
    "    train_loss /= len(train_mnist)\n",
    "    train_accuracy = 100. * correct / total\n",
    "    # Prints training accuracy and training loss\n",
    "    print(f\"Epoch {epoch + 1}/{num_epochs}, Train Loss: {train_loss:.4f}, Train Accuracy: {train_accuracy:.2f}%\",end=\" \")\n",
    "\n",
    "    # Testing the Model \n",
    "    model.eval()\n",
    "    test_loss = 0\n",
    "    correct = 0\n",
    "    total = 0\n",
    "\n",
    "    with torch.no_grad():\n",
    "        for inputs, labels in test_mnist:\n",
    "            inputs, labels = inputs.to(device), labels.to(device)\n",
    "\n",
    "             # Model takes inputs and labels and returns loss and logits\n",
    "            loss, logits = model(inputs, labels) \n",
    "\n",
    "            # Calculating testing loss\n",
    "            test_loss += loss.item()\n",
    "\n",
    "            pred = logits.argmax(dim=1)\n",
    "            total += labels.size(0)\n",
    "            correct += pred.eq(labels).sum().item()\n",
    "\n",
    "    test_loss /= len(test_mnist)\n",
    "    test_accuracy = 100. * correct / total\n",
    "    print(f\"Test Loss: {test_loss:.4f}, Test Accuracy: {test_accuracy:.2f}%\")\n",
    "\n"
   ]
  }
 ],
 "metadata": {
  "kernelspec": {
   "display_name": "base",
   "language": "python",
   "name": "python3"
  },
  "language_info": {
   "codemirror_mode": {
    "name": "ipython",
    "version": 3
   },
   "file_extension": ".py",
   "mimetype": "text/x-python",
   "name": "python",
   "nbconvert_exporter": "python",
   "pygments_lexer": "ipython3",
   "version": "3.12.4"
  }
 },
 "nbformat": 4,
 "nbformat_minor": 2
}
